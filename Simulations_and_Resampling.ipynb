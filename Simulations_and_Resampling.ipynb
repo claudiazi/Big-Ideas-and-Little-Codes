{
 "cells": [
  {
   "cell_type": "markdown",
   "metadata": {},
   "source": [
    "### Big Idea:"
   ]
  },
  {
   "cell_type": "markdown",
   "metadata": {},
   "source": [
    "Statistics modeled in a program are easier to get right and understand than using a formulaic approach. it is also extends to more complicated situations that classic formulas."
   ]
  },
  {
   "cell_type": "markdown",
   "metadata": {},
   "source": [
    "Jake VanderPlas: If you can do a for loop, you can do statistics."
   ]
  },
  {
   "cell_type": "code",
   "execution_count": 1,
   "metadata": {},
   "outputs": [],
   "source": [
    "from random import *\n",
    "from statistics import *\n",
    "from collections import *"
   ]
  },
  {
   "cell_type": "markdown",
   "metadata": {},
   "source": [
    "### 1. Six roulette wheeles -- 18 red 18 black 2 greens"
   ]
  },
  {
   "cell_type": "markdown",
   "metadata": {},
   "source": [
    "--> choices with weighting"
   ]
  },
  {
   "cell_type": "markdown",
   "metadata": {},
   "source": [
    "#### - Tedius way"
   ]
  },
  {
   "cell_type": "code",
   "execution_count": 2,
   "metadata": {},
   "outputs": [],
   "source": [
    "population = ['red'] * 18 + ['black'] * 18 + ['green'] * 2"
   ]
  },
  {
   "cell_type": "code",
   "execution_count": 3,
   "metadata": {},
   "outputs": [
    {
     "data": {
      "text/plain": [
       "Counter({'red': 5, 'green': 1})"
      ]
     },
     "execution_count": 3,
     "metadata": {},
     "output_type": "execute_result"
    }
   ],
   "source": [
    "Counter([choice(population) for i in range(6)])"
   ]
  },
  {
   "cell_type": "code",
   "execution_count": 4,
   "metadata": {},
   "outputs": [
    {
     "data": {
      "text/plain": [
       "Counter({'black': 5, 'red': 1})"
      ]
     },
     "execution_count": 4,
     "metadata": {},
     "output_type": "execute_result"
    }
   ],
   "source": [
    "# more succinctly\n",
    "Counter(choices(population, k=6))"
   ]
  },
  {
   "cell_type": "markdown",
   "metadata": {},
   "source": [
    "#### - Better way"
   ]
  },
  {
   "cell_type": "code",
   "execution_count": 6,
   "metadata": {},
   "outputs": [
    {
     "data": {
      "text/plain": [
       "Counter({'red': 3, 'black': 3})"
      ]
     },
     "execution_count": 6,
     "metadata": {},
     "output_type": "execute_result"
    }
   ],
   "source": [
    "Counter(choices(['red', 'black', 'green'], [18, 18, 2], k=6))"
   ]
  },
  {
   "cell_type": "markdown",
   "metadata": {},
   "source": [
    "### 2. Deal 20 playing cards without replacement (16 tens, 36 low)"
   ]
  },
  {
   "cell_type": "markdown",
   "metadata": {},
   "source": [
    "--> Counter, eleoments, sample, list.count"
   ]
  },
  {
   "cell_type": "code",
   "execution_count": 11,
   "metadata": {},
   "outputs": [],
   "source": [
    "deck = Counter(tens=16, low=36)"
   ]
  },
  {
   "cell_type": "code",
   "execution_count": 12,
   "metadata": {},
   "outputs": [
    {
     "data": {
      "text/plain": [
       "Counter({'tens': 16, 'low': 36})"
      ]
     },
     "execution_count": 12,
     "metadata": {},
     "output_type": "execute_result"
    }
   ],
   "source": [
    "deck"
   ]
  },
  {
   "cell_type": "code",
   "execution_count": 13,
   "metadata": {},
   "outputs": [],
   "source": [
    "deck = list(deck.elements())"
   ]
  },
  {
   "cell_type": "code",
   "execution_count": 14,
   "metadata": {},
   "outputs": [],
   "source": [
    "deal = sample(deck,52)\n",
    "# or shuffle(deck)"
   ]
  },
  {
   "cell_type": "code",
   "execution_count": 23,
   "metadata": {},
   "outputs": [],
   "source": [
    "remainder = deal[20:]"
   ]
  },
  {
   "cell_type": "code",
   "execution_count": 24,
   "metadata": {},
   "outputs": [
    {
     "data": {
      "text/plain": [
       "Counter({'low': 21, 'tens': 11})"
      ]
     },
     "execution_count": 24,
     "metadata": {},
     "output_type": "execute_result"
    }
   ],
   "source": [
    "Counter(remainder)"
   ]
  },
  {
   "cell_type": "markdown",
   "metadata": {},
   "source": [
    "### 3. 5 or more heads from 7 spins of a biased coin"
   ]
  },
  {
   "cell_type": "markdown",
   "metadata": {},
   "source": [
    "--> lambda, choices, list.count"
   ]
  },
  {
   "cell_type": "markdown",
   "metadata": {},
   "source": [
    "- cumulated weight, internally: the weights have to be accumulated anyway, so it speeds up the simulation a little bit"
   ]
  },
  {
   "cell_type": "markdown",
   "metadata": {},
   "source": [
    "- lambda with no arguments: a deferred computation -> in the futre run a computation"
   ]
  },
  {
   "cell_type": "code",
   "execution_count": 43,
   "metadata": {},
   "outputs": [],
   "source": [
    "trial = lambda: choices(['heads', 'tails'], cum_weights=[0.60, 1.00], k=7).count('heads') >=5"
   ]
  },
  {
   "cell_type": "code",
   "execution_count": 49,
   "metadata": {},
   "outputs": [
    {
     "data": {
      "text/plain": [
       "0.41968"
      ]
     },
     "execution_count": 49,
     "metadata": {},
     "output_type": "execute_result"
    }
   ],
   "source": [
    "n = 100000\n",
    "sum(trial() for i in range(n))/n       # <== empirical result"
   ]
  },
  {
   "cell_type": "code",
   "execution_count": 46,
   "metadata": {},
   "outputs": [],
   "source": [
    "# compare to the analytic approach\n",
    "from math import factorial as fact\n",
    "def comb(n, r):\n",
    "    return fact(n) // fact(r) // fact(n - r)\n",
    "# this is floor division: to return the int not the float"
   ]
  },
  {
   "cell_type": "code",
   "execution_count": 52,
   "metadata": {},
   "outputs": [
    {
     "data": {
      "text/plain": [
       "0.419904"
      ]
     },
     "execution_count": 52,
     "metadata": {},
     "output_type": "execute_result"
    }
   ],
   "source": [
    "ph = 0.6\n",
    "# 5 heads out of 7 spins\n",
    "p_5 = ph ** 5 * (1 - ph) ** 2 * comb(7, 5)\n",
    "# 6 heads out of 7 spins\n",
    "p_6 = ph ** 6 * (1 - ph) ** 1 * comb(7, 6)\n",
    "# 7 heads out of 7 spins\n",
    "p_7 = ph ** 7 * (1 - ph) ** 0 * comb(7, 7)\n",
    "p_5 + p_6 + p_7   # <== theoretical result"
   ]
  },
  {
   "cell_type": "markdown",
   "metadata": {},
   "source": [
    "### 4. Probability that the median of 5 samples falles a middle quartile"
   ]
  },
  {
   "cell_type": "markdown",
   "metadata": {},
   "source": [
    "--> chained comparison, choices from a range"
   ]
  },
  {
   "cell_type": "code",
   "execution_count": 53,
   "metadata": {},
   "outputs": [],
   "source": [
    "trial = lambda: n // 4 < median(sample(range(100000), 5)) <= n * 3 //4"
   ]
  },
  {
   "cell_type": "code",
   "execution_count": 54,
   "metadata": {},
   "outputs": [
    {
     "data": {
      "text/plain": [
       "0.79337"
      ]
     },
     "execution_count": 54,
     "metadata": {},
     "output_type": "execute_result"
    }
   ],
   "source": [
    "sum(trial() for i in range(n)) / n"
   ]
  },
  {
   "cell_type": "markdown",
   "metadata": {},
   "source": [
    "### 3. Bootstrapping to estimate the confidence interval on a sample of data (timing of a network event)"
   ]
  },
  {
   "cell_type": "markdown",
   "metadata": {},
   "source": [
    "--> sorted, mean, choices"
   ]
  },
  {
   "cell_type": "markdown",
   "metadata": {},
   "source": [
    "- Bootstrapping is used when obtaining new samples is expensive"
   ]
  },
  {
   "cell_type": "markdown",
   "metadata": {},
   "source": [
    "- Stanrd error of the mean relies on a normal distribution. Resampling makes no such assumptions"
   ]
  },
  {
   "cell_type": "markdown",
   "metadata": {},
   "source": [
    "- Assumption: If the data represnets the population, it can give the as another sample from the population via resampling"
   ]
  },
  {
   "cell_type": "code",
   "execution_count": 55,
   "metadata": {},
   "outputs": [],
   "source": [
    "timings = [7.18, 8.59, 12.24, 7.39, 8.16, 8.68, 6.98, 8.31, 9.06, 7.06, 7.67, 10.02, 6.87, 9.07]"
   ]
  },
  {
   "cell_type": "code",
   "execution_count": 64,
   "metadata": {},
   "outputs": [
    {
     "data": {
      "text/plain": [
       "(8.377142857142857, 1.4576505256559458)"
      ]
     },
     "execution_count": 64,
     "metadata": {},
     "output_type": "execute_result"
    }
   ],
   "source": [
    "mean(timings), stdev(timings)"
   ]
  },
  {
   "cell_type": "code",
   "execution_count": 59,
   "metadata": {},
   "outputs": [],
   "source": [
    "def bootstrap(data):\n",
    "    return choices(data, k=len(data))"
   ]
  },
  {
   "cell_type": "code",
   "execution_count": 63,
   "metadata": {},
   "outputs": [
    {
     "name": "stdout",
     "output_type": "stream",
     "text": [
      "Falls in a 90% confidence interval from  7.797 to  9.032\n"
     ]
    }
   ],
   "source": [
    "# Build a 90% confidence interval\n",
    "n =  10000\n",
    "means = sorted(mean(bootstrap(timings)) for i in range(n))\n",
    "print(f'Falls in a 90% confidence interval from {means[round(n*0.05)] : .3f} to {means[-round(n * 0.05)] : .3f}')"
   ]
  },
  {
   "cell_type": "markdown",
   "metadata": {},
   "source": [
    "### Statistical significance of the difference of two means "
   ]
  },
  {
   "cell_type": "markdown",
   "metadata": {},
   "source": [
    "--> shuffle, slicing, mean"
   ]
  },
  {
   "cell_type": "markdown",
   "metadata": {},
   "source": [
    "- p-value: what is the chance that what we observed was actually due to chance, rather than due to a real effect"
   ]
  },
  {
   "cell_type": "markdown",
   "metadata": {},
   "source": [
    "- we have female and male web visitors and we can observe their behaviors, e.g. different mean amount of time on the website, mean of amount of purchases. Question: Was that a real difference, or just due to chance?"
   ]
  },
  {
   "cell_type": "code",
   "execution_count": 66,
   "metadata": {},
   "outputs": [],
   "source": [
    "drug = [7.1, 8.5, 6.4, 7.7, 8.2, 7.6, 8.4, 5.1, 8.1, 7.4, 6.9, 8.4]\n",
    "placebo = [8.2, 6.1, 7.1, 7.1, 4.9, 7.4, 8.1, 7.1, 6.2, 7.0, 6.6, 6.3]"
   ]
  },
  {
   "cell_type": "code",
   "execution_count": 67,
   "metadata": {},
   "outputs": [
    {
     "data": {
      "text/plain": [
       "(7.483333333333333, 6.841666666666667)"
      ]
     },
     "execution_count": 67,
     "metadata": {},
     "output_type": "execute_result"
    }
   ],
   "source": [
    "mean(drug), mean(placebo)"
   ]
  },
  {
   "cell_type": "code",
   "execution_count": 70,
   "metadata": {},
   "outputs": [
    {
     "data": {
      "text/plain": [
       "0.6416666666666666"
      ]
     },
     "execution_count": 70,
     "metadata": {},
     "output_type": "execute_result"
    }
   ],
   "source": [
    "obs_diff = mean(drug) - mean(placebo)\n",
    "obs_diff"
   ]
  },
  {
   "cell_type": "markdown",
   "metadata": {},
   "source": [
    "- permutation test--> \n",
    "Null hypothesis: the drug did nothing, that there was no difference between placebo and drug --> we should be able to swap participants out of one group and into the another, and the observed mean should be as extreme as the obs_diff\n",
    "- If we reshuffle (permuting, relabeling) the participants, is the new mean_diff the same or extreme than be observed?\n",
    "    "
   ]
  },
  {
   "cell_type": "code",
   "execution_count": 75,
   "metadata": {},
   "outputs": [],
   "source": [
    "comb = drug + placebo\n",
    "nd = len(drug)"
   ]
  },
  {
   "cell_type": "code",
   "execution_count": 80,
   "metadata": {},
   "outputs": [],
   "source": [
    "def trial():\n",
    "    shuffle(comb)\n",
    "    drug = comb[:nd]\n",
    "    placebo = comb[nd:]\n",
    "    new_diff = mean(drug) - mean(placebo)\n",
    "    return new_diff >= obs_diff"
   ]
  },
  {
   "cell_type": "code",
   "execution_count": 84,
   "metadata": {},
   "outputs": [
    {
     "data": {
      "text/plain": [
       "0.0566"
      ]
     },
     "execution_count": 84,
     "metadata": {},
     "output_type": "execute_result"
    }
   ],
   "source": [
    "n = 10000\n",
    "sum(trial() for i in range(n))/n    #^-- p-value: likelihood that the outcome was solely due to chance"
   ]
  },
  {
   "cell_type": "markdown",
   "metadata": {},
   "source": [
    "- p_value = 0.0566: dont accept null-hypothesis, but you believe you need additional data to confirm"
   ]
  },
  {
   "cell_type": "markdown",
   "metadata": {},
   "source": [
    "### Single server queue simulation"
   ]
  },
  {
   "cell_type": "markdown",
   "metadata": {},
   "source": [
    "--> expovariate, gauss, mean, median, stdev"
   ]
  },
  {
   "cell_type": "markdown",
   "metadata": {},
   "source": [
    "- Poisson distribution (expovariate)"
   ]
  },
  {
   "cell_type": "code",
   "execution_count": 95,
   "metadata": {},
   "outputs": [],
   "source": [
    "average_arrival_interval = 5.6\n",
    "average_service_time = 5.0\n",
    "stdev_service_time = 0.5"
   ]
  },
  {
   "cell_type": "code",
   "execution_count": 96,
   "metadata": {},
   "outputs": [],
   "source": [
    "num_waiting = 0\n",
    "arrivals = []\n",
    "starts = []\n",
    "arrival = service_end = 0.0"
   ]
  },
  {
   "cell_type": "code",
   "execution_count": 97,
   "metadata": {},
   "outputs": [],
   "source": [
    "for i in range(20000):\n",
    "    if arrival <= service_end:\n",
    "        num_waiting += 1\n",
    "        arrival += expovariate(1.0/ average_arrival_interval)\n",
    "        arrivals.append(arrival)\n",
    "    else:\n",
    "        num_waiting -= 1\n",
    "        service_start = service_end if num_waiting else arrival\n",
    "        service_time = gauss(average_service_time, stdev_service_time)\n",
    "        service_end = service_start + service_time\n",
    "        starts.append(service_start)\n",
    "\n",
    "waits = [start - arrival for arrival, start in zip(arrivals, starts)]"
   ]
  },
  {
   "cell_type": "code",
   "execution_count": 101,
   "metadata": {},
   "outputs": [
    {
     "name": "stdout",
     "output_type": "stream",
     "text": [
      "Mean wait: 24.6. Stdev wait: 27.7.\n",
      "Median wait: 16.4. Max wait: 187.5.\n"
     ]
    }
   ],
   "source": [
    "print(f'Mean wait: {mean(waits) :.1f}. Stdev wait: {stdev(waits) :.1f}.')\n",
    "print(f'Median wait: {median(waits) :.1f}. Max wait: {max(waits) :.1f}.')"
   ]
  },
  {
   "cell_type": "markdown",
   "metadata": {},
   "source": [
    "- Then you can do sensibility test: increase average_service_time, decrease stdev_service_time"
   ]
  },
  {
   "cell_type": "code",
   "execution_count": null,
   "metadata": {},
   "outputs": [],
   "source": []
  }
 ],
 "metadata": {
  "kernelspec": {
   "display_name": "Python 3",
   "language": "python",
   "name": "python3"
  },
  "language_info": {
   "codemirror_mode": {
    "name": "ipython",
    "version": 3
   },
   "file_extension": ".py",
   "mimetype": "text/x-python",
   "name": "python",
   "nbconvert_exporter": "python",
   "pygments_lexer": "ipython3",
   "version": "3.8.2"
  }
 },
 "nbformat": 4,
 "nbformat_minor": 1
}