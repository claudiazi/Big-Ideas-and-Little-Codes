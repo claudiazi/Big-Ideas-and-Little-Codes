{
 "cells": [
  {
   "cell_type": "markdown",
   "metadata": {
    "collapsed": true
   },
   "source": [
    "### Big idea:"
   ]
  },
  {
   "cell_type": "markdown",
   "metadata": {},
   "source": [
    "K-means is an unsupervised learning tool for identifing clusters with-in datasets"
   ]
  },
  {
   "cell_type": "markdown",
   "metadata": {},
   "source": [
    "- Algorithm: Pick arbitrary points as guesses for the center of each group. Assign all the data points to the closest matching group. within each group, average the points to get a new gess for the center of the group. Repeat multiple times: assign data and average the points."
   ]
  },
  {
   "cell_type": "markdown",
   "metadata": {},
   "source": [
    "- Functions needed: \n",
    "    * mean(data)\n",
    "    * dist(point, point)\n",
    "    * assign_data(centroids, points)\n",
    "    * compute-centroids(groups)\n",
    "    * k_eans(points)"
   ]
  },
  {
   "cell_type": "markdown",
   "metadata": {},
   "source": [
    "- Sequences are a very common type of iterable. Lists, tuples, and strings are all sequences. \n",
    "- Sequences are iterables that have a specific set of features. They can be indexed starting from 0 and ending at one less than the length of the sequence, they have a length, and they can be sliced. Lists, tuples, strings, and all other sequences work this way.\n",
    "- Lots of things in Python are iterables, but not all iterables are sequences. Sets, dictionaries, files, and generators are all iterables but none of these things are sequences.\n",
    "- So anything that can be looped over with a for loop is an iterable, and sequences are one type of iterable, but Python has many other kinds of iterables as well."
   ]
  },
  {
   "cell_type": "markdown",
   "metadata": {},
   "source": [
    "#### Some messy tips"
   ]
  },
  {
   "cell_type": "markdown",
   "metadata": {},
   "source": [
    "- for big computations, localize the global lookups/ functions\n",
    "   - dissassemble the function:\n",
    "    ```\n",
    "    from dis import dis\n",
    "    dis(func_name)\n",
    "    ```"
   ]
  },
  {
   "cell_type": "markdown",
   "metadata": {},
   "source": [
    "- partial: partial function evaluation. e.g. To fully evaluate the function pow takes two arguments, aka a function of arity two. "
   ]
  },
  {
   "cell_type": "code",
   "execution_count": 3,
   "metadata": {},
   "outputs": [
    {
     "data": {
      "text/plain": [
       "32"
      ]
     },
     "execution_count": 3,
     "metadata": {},
     "output_type": "execute_result"
    }
   ],
   "source": [
    "from functools import partial\n",
    "pow(2,5)"
   ]
  },
  {
   "cell_type": "code",
   "execution_count": 4,
   "metadata": {},
   "outputs": [
    {
     "data": {
      "text/plain": [
       "32"
      ]
     },
     "execution_count": 4,
     "metadata": {},
     "output_type": "execute_result"
    }
   ],
   "source": [
    "# freeze the first argument\n",
    "twopow = partial(pow, 2)\n",
    "twopow(5)"
   ]
  },
  {
   "cell_type": "markdown",
   "metadata": {},
   "source": [
    "- map() is a function with two arguments:\n"
   ]
  },
  {
   "cell_type": "code",
   "execution_count": 17,
   "metadata": {},
   "outputs": [
    {
     "name": "stdout",
     "output_type": "stream",
     "text": [
      "[97.7, 98.60000000000001, 99.5, 102.2]\n"
     ]
    }
   ],
   "source": [
    "def fahrenheit(T):\n",
    "    return ((float(9)/5)*T + 32)\n",
    "def celsius(T):\n",
    "    return (float(5)/9)*(T-32)\n",
    "temp = (36.5, 37, 37.5, 39)\n",
    "\n",
    "F = list(map(fahrenheit, temp))\n",
    "C = list(map(celsius, F))\n",
    "print(F)\n",
    "print(C)"
   ]
  },
  {
   "cell_type": "code",
   "execution_count": 18,
   "metadata": {},
   "outputs": [
    {
     "name": "stdout",
     "output_type": "stream",
     "text": [
      "[18, 14, 14, 14]\n",
      "[17, 10, 19, 23]\n",
      "[19, 18, 9, 5]\n"
     ]
    }
   ],
   "source": [
    "a = [1,2,3,4]\n",
    "b = [17,12,11,10]\n",
    "c = [-1,-4,5,9]\n",
    "print(list(map(lambda x,y:x+y, a,b)))\n",
    "print(list(map(lambda x,y,z:x+y+z, a,b,c)))\n",
    "print(list(map(lambda x,y,z:x+y-z, a,b,c)))"
   ]
  },
  {
   "cell_type": "markdown",
   "metadata": {},
   "source": [
    "- If you think one line is too opaque -> pull the opaque part out and give it a meaningful function name"
   ]
  },
  {
   "cell_type": "markdown",
   "metadata": {},
   "source": [
    "e.g. \n",
    "```\n",
    "[tuple(map(mean, zip(*group))) for group in groups]\n",
    "```\n",
    "can change to:\n",
    "```\n",
    "def transpose(data):\n",
    "    'Swap the rows and columns in a 2D array of data'\n",
    "    return list(zip(*data))\n",
    "[tuple(map(mean, transpose(group))) for group in groups]    \n",
    "```"
   ]
  },
  {
   "cell_type": "markdown",
   "metadata": {},
   "source": [
    "#### Good codes:"
   ]
  },
  {
   "cell_type": "markdown",
   "metadata": {},
   "source": [
    "- Good function names\n",
    "- good doc strings\n",
    "- nice type annotations\n",
    "- Code straight forward"
   ]
  },
  {
   "cell_type": "markdown",
   "metadata": {},
   "source": []
  },
  {
   "cell_type": "code",
   "execution_count": null,
   "metadata": {},
   "outputs": [],
   "source": []
  }
 ],
 "metadata": {
  "kernelspec": {
   "display_name": "Python 3",
   "language": "python",
   "name": "python3"
  },
  "language_info": {
   "codemirror_mode": {
    "name": "ipython",
    "version": 3
   },
   "file_extension": ".py",
   "mimetype": "text/x-python",
   "name": "python",
   "nbconvert_exporter": "python",
   "pygments_lexer": "ipython3",
   "version": "3.8.2"
  }
 },
 "nbformat": 4,
 "nbformat_minor": 1
}
