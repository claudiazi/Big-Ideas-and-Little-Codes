{
 "cells": [
  {
   "cell_type": "markdown",
   "metadata": {},
   "source": [
    "### Big idea:"
   ]
  },
  {
   "cell_type": "markdown",
   "metadata": {},
   "source": [
    "Add type hints to code helps clarify your thoughts, imrproves documentation, and may allow a static analysis tool to detect some kinds of errors."
   ]
  },
  {
   "cell_type": "markdown",
   "metadata": {},
   "source": [
    "#### Tools:"
   ]
  },
  {
   "cell_type": "markdown",
   "metadata": {},
   "source": [
    "- mypy (can be a plugin in PyCharm): detect errors of typing hints\n",
    "- pyflakes: scan the codes and report back that it think to be an anomaly\n",
    "- hypothesis: to generate test cases and detect errors in your codes (similar to doctest?)\n",
    "- unittest -> nose/ py.test"
   ]
  },
  {
   "cell_type": "markdown",
   "metadata": {},
   "source": [
    "#### some messy notes:"
   ]
  },
  {
   "cell_type": "markdown",
   "metadata": {
    "collapsed": true
   },
   "source": [
    "- Sequence: iterable and indexables (e.g. tuple, list, string) -> len(x), x[1]\n",
    "- For tuple, you need to list all the fields; for list, homogeneous field"
   ]
  },
  {
   "cell_type": "markdown",
   "metadata": {},
   "source": [
    "- Deque (Doubly Ended Queue) in Python is implemented using the module “collections“. Deque is preferred over list in the cases where we need quicker append and pop operations from both the ends of container, as deque provides an O(1) time complexity for append and pop operations as compared to list which provides O(n) time complexity.\n",
    "- namedtuple"
   ]
  },
  {
   "cell_type": "markdown",
   "metadata": {},
   "source": [
    "- secrets — Generate secure random numbers for managing secrets¶"
   ]
  },
  {
   "cell_type": "markdown",
   "metadata": {},
   "source": [
    "#### fsum( )\n",
    "- fast, accurate than regular sum\n",
    "- import for summing up lots of data points"
   ]
  },
  {
   "cell_type": "code",
   "execution_count": 5,
   "metadata": {},
   "outputs": [
    {
     "name": "stdout",
     "output_type": "stream",
     "text": [
      "True\n",
      "False\n"
     ]
    }
   ],
   "source": [
    "from math import fsum\n",
    "print(fsum([0.1]*10) == 1.0)\n",
    "print(sum([0.1]*10) == 1.0)"
   ]
  },
  {
   "cell_type": "markdown",
   "metadata": {},
   "source": [
    "#### true division & floor division"
   ]
  },
  {
   "cell_type": "code",
   "execution_count": 6,
   "metadata": {},
   "outputs": [
    {
     "name": "stdout",
     "output_type": "stream",
     "text": [
      "7.6\n",
      "7\n"
     ]
    }
   ],
   "source": [
    "print(38 / 5)\n",
    "print(38 // 5)"
   ]
  },
  {
   "cell_type": "markdown",
   "metadata": {},
   "source": [
    "#### defaultdict is used for grouping\n",
    "- defaultdict compared to regular dict: you can set default value for missing keys"
   ]
  },
  {
   "cell_type": "code",
   "execution_count": 8,
   "metadata": {},
   "outputs": [
    {
     "data": {
      "text/plain": [
       "'black'"
      ]
     },
     "execution_count": 8,
     "metadata": {},
     "output_type": "execute_result"
    }
   ],
   "source": [
    "from collections import defaultdict\n",
    "e = defaultdict(lambda: 'black')\n",
    "e['apple'] = 'red'\n",
    "e['banana']"
   ]
  },
  {
   "cell_type": "markdown",
   "metadata": {},
   "source": [
    "- defaultdict + key functions to build conotainers\n",
    "- defaultdict creates a new container to store elements with a common feature"
   ]
  },
  {
   "cell_type": "code",
   "execution_count": 12,
   "metadata": {},
   "outputs": [
    {
     "data": {
      "text/plain": [
       "defaultdict(set, {'t': {'tim', 'tom'}, 'm': {'martin', 'mary'}})"
      ]
     },
     "execution_count": 12,
     "metadata": {},
     "output_type": "execute_result"
    }
   ],
   "source": [
    "d = defaultdict(set)\n",
    "d['t'].add('tom')\n",
    "d['m'].add('mary')\n",
    "d['t'].add('tim')\n",
    "d['t'].add('tom')\n",
    "d['m'].add('martin')\n",
    "d"
   ]
  },
  {
   "cell_type": "code",
   "execution_count": 14,
   "metadata": {},
   "outputs": [
    {
     "data": {
      "text/plain": [
       "defaultdict(list, {'t': ['tom', 'tim', 'tom'], 'm': ['mary', 'martin']})"
      ]
     },
     "execution_count": 14,
     "metadata": {},
     "output_type": "execute_result"
    }
   ],
   "source": [
    "from pprint import pprint\n",
    "d = defaultdict(list)\n",
    "d['t'].append('tom')\n",
    "d['m'].append('mary')\n",
    "d['t'].append('tim')\n",
    "d['t'].append('tom')\n",
    "d['m'].append('martin')\n",
    "d"
   ]
  },
  {
   "cell_type": "markdown",
   "metadata": {},
   "source": [
    "- defaultdict for grouping"
   ]
  },
  {
   "cell_type": "code",
   "execution_count": 16,
   "metadata": {},
   "outputs": [
    {
     "data": {
      "text/plain": [
       "['david',\n",
       " 'betty',\n",
       " 'susan',\n",
       " 'mary',\n",
       " 'darlene',\n",
       " 'sandy',\n",
       " 'davin',\n",
       " 'shelly',\n",
       " 'becky',\n",
       " 'beatrice',\n",
       " 'michael',\n",
       " 'wallace']"
      ]
     },
     "execution_count": 16,
     "metadata": {},
     "output_type": "execute_result"
    }
   ],
   "source": [
    "names = \"\"\" david betty susan mary darlene sandy davin shelly becky beatrice michael wallace\"\"\".split()\n",
    "names"
   ]
  },
  {
   "cell_type": "code",
   "execution_count": 17,
   "metadata": {},
   "outputs": [
    {
     "name": "stdout",
     "output_type": "stream",
     "text": [
      "defaultdict(<class 'list'>,\n",
      "            {'b': ['betty', 'becky', 'beatrice'],\n",
      "             'd': ['david', 'darlene', 'davin'],\n",
      "             'm': ['mary', 'michael'],\n",
      "             's': ['susan', 'sandy', 'shelly'],\n",
      "             'w': ['wallace']})\n"
     ]
    }
   ],
   "source": [
    "d = defaultdict(list)\n",
    "for name in names:\n",
    "    feature = name[0]      #change the feature to get different : e.g. len(name), name[-1]\n",
    "    d[feature].append(name)\n",
    "pprint(d)"
   ]
  },
  {
   "cell_type": "markdown",
   "metadata": {},
   "source": [
    "#### key functions\n",
    "- it is a function that takes one argument and tranforms it into a key\n",
    "- work with min( ), max( ), sorted( ), nsmalles( ), nlargest( ), groupby( ), and merge( )"
   ]
  },
  {
   "cell_type": "code",
   "execution_count": 19,
   "metadata": {},
   "outputs": [
    {
     "name": "stdout",
     "output_type": "stream",
     "text": [
      "['mary',\n",
      " 'david',\n",
      " 'betty',\n",
      " 'susan',\n",
      " 'sandy',\n",
      " 'davin',\n",
      " 'becky',\n",
      " 'shelly',\n",
      " 'darlene',\n",
      " 'michael',\n",
      " 'wallace',\n",
      " 'beatrice']\n"
     ]
    }
   ],
   "source": [
    "pprint(sorted(names, key=len))"
   ]
  },
  {
   "cell_type": "markdown",
   "metadata": {},
   "source": [
    "#### Transpose 2D data with zip(*data)\n",
    "- zip brings multiple sequences together pair-wise."
   ]
  },
  {
   "cell_type": "code",
   "execution_count": 20,
   "metadata": {},
   "outputs": [
    {
     "data": {
      "text/plain": [
       "[('a', 'g'), ('b', 'h'), ('c', 'i'), ('d', 'j'), ('e', 'k')]"
      ]
     },
     "execution_count": 20,
     "metadata": {},
     "output_type": "execute_result"
    }
   ],
   "source": [
    "list(zip('abcde', 'ghijklm'))   #the unpaired elements are left out "
   ]
  },
  {
   "cell_type": "code",
   "execution_count": 21,
   "metadata": {
    "scrolled": true
   },
   "outputs": [
    {
     "data": {
      "text/plain": [
       "[('a', 'g'),\n",
       " ('b', 'h'),\n",
       " ('c', 'i'),\n",
       " ('d', 'j'),\n",
       " ('e', 'k'),\n",
       " ('x', 'l'),\n",
       " ('x', 'm')]"
      ]
     },
     "execution_count": 21,
     "metadata": {},
     "output_type": "execute_result"
    }
   ],
   "source": [
    "from itertools import zip_longest\n",
    "list(zip_longest('abcde', 'ghijklm', fillvalue='x')) "
   ]
  },
  {
   "cell_type": "markdown",
   "metadata": {},
   "source": [
    "- *(star): unpack one sequence into separate arguments\n",
    "- zip(*) is useful for tranposing matrices/ any multi-dimensional data structure is used to help you invert it and to loop over that data structure switching rows and columns together"
   ]
  },
  {
   "cell_type": "code",
   "execution_count": 22,
   "metadata": {},
   "outputs": [],
   "source": [
    "m = [\n",
    "  [10, 20],\n",
    "  [30, 40],  \n",
    "  [50, 60],\n",
    "]  # 3 rows by 2 columns"
   ]
  },
  {
   "cell_type": "code",
   "execution_count": 26,
   "metadata": {},
   "outputs": [
    {
     "name": "stdout",
     "output_type": "stream",
     "text": [
      "[(10, 30, 50),\n",
      " (20, 40, 60)]\n",
      "[(10, 30, 50),\n",
      " (20, 40, 60)]\n"
     ]
    }
   ],
   "source": [
    "# transforms to 2 rows by 3 columns\n",
    "pprint(list(zip(*m)), width=15)\n",
    "#same as\n",
    "pprint(list(zip( [10, 20], [30, 40], [50, 60])), width=15)"
   ]
  },
  {
   "cell_type": "markdown",
   "metadata": {},
   "source": [
    "#### Flattening 2D data with a nested list comprehension"
   ]
  },
  {
   "cell_type": "code",
   "execution_count": 27,
   "metadata": {},
   "outputs": [
    {
     "data": {
      "text/plain": [
       "[10, 20, 30, 40, 50, 60]"
      ]
     },
     "execution_count": 27,
     "metadata": {},
     "output_type": "execute_result"
    }
   ],
   "source": [
    "[x for row in m for x in row]"
   ]
  },
  {
   "cell_type": "markdown",
   "metadata": {},
   "source": [
    "#### Convert an iterator into a list with list(iter)\n",
    "- Sometimes we need to turn the iterator into list so that we can index them or loop over them multiple times"
   ]
  },
  {
   "cell_type": "code",
   "execution_count": 28,
   "metadata": {},
   "outputs": [
    {
     "data": {
      "text/plain": [
       "['a', 'b', 'c', 'd']"
      ]
     },
     "execution_count": 28,
     "metadata": {},
     "output_type": "execute_result"
    }
   ],
   "source": [
    "it = iter('abcd')\n",
    "list(it)"
   ]
  },
  {
   "cell_type": "code",
   "execution_count": 30,
   "metadata": {},
   "outputs": [
    {
     "data": {
      "text/plain": [
       "['a', 'b', 'c', 'd']"
      ]
     },
     "execution_count": 30,
     "metadata": {},
     "output_type": "execute_result"
    }
   ],
   "source": [
    "('a b c d').split()"
   ]
  },
  {
   "cell_type": "code",
   "execution_count": null,
   "metadata": {},
   "outputs": [],
   "source": []
  }
 ],
 "metadata": {
  "kernelspec": {
   "display_name": "Python 3",
   "language": "python",
   "name": "python3"
  },
  "language_info": {
   "codemirror_mode": {
    "name": "ipython",
    "version": 3
   },
   "file_extension": ".py",
   "mimetype": "text/x-python",
   "name": "python",
   "nbconvert_exporter": "python",
   "pygments_lexer": "ipython3",
   "version": "3.8.2"
  }
 },
 "nbformat": 4,
 "nbformat_minor": 1
}